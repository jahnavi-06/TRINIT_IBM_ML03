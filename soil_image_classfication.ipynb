{
  "nbformat": 4,
  "nbformat_minor": 0,
  "metadata": {
    "colab": {
      "provenance": [],
      "mount_file_id": "11n3fm-uN67e3diXLFz_7T2y5LMYaHZvK",
      "authorship_tag": "ABX9TyO5jYycTZZzJ7tVIkvz2x7g",
      "include_colab_link": true
    },
    "kernelspec": {
      "name": "python3",
      "display_name": "Python 3"
    },
    "language_info": {
      "name": "python"
    }
  },
  "cells": [
    {
      "cell_type": "markdown",
      "metadata": {
        "id": "view-in-github",
        "colab_type": "text"
      },
      "source": [
        "<a href=\"https://colab.research.google.com/github/jahnavi-06/TRINIT_IBM_ML03/blob/main/soil_image_classfication.ipynb\" target=\"_parent\"><img src=\"https://colab.research.google.com/assets/colab-badge.svg\" alt=\"Open In Colab\"/></a>"
      ]
    },
    {
      "cell_type": "code",
      "execution_count": 1,
      "metadata": {
        "id": "cnTx1eye9IXi"
      },
      "outputs": [],
      "source": [
        "import numpy as np \n",
        "import pandas as pd\n",
        "\n",
        "import os\n",
        "dir_black = os.path.join('/content/drive/MyDrive/fivetypesof_soil/Blacksoil')\n",
        "dir_Cinder = os.path.join('/content/drive/MyDrive/fivetypesof_soil/cindersoil')\n",
        "dir_Laterite = os.path.join('/content/drive/MyDrive/fivetypesof_soil/lateritesoil')\n",
        "dir_peat = os.path.join('/content/drive/MyDrive/fivetypesof_soil/peatsoil')\n",
        "dir_yellow = os.path.join('/content/drive/MyDrive/fivetypesof_soil/yellowsoil')"
      ]
    },
    {
      "cell_type": "code",
      "source": [
        "import tensorflow as tf\n",
        "from tensorflow import keras"
      ],
      "metadata": {
        "id": "hhZpAwmSKV7P"
      },
      "execution_count": 2,
      "outputs": []
    },
    {
      "cell_type": "code",
      "source": [
        "image_size = 220\n",
        "batch_size = 10\n",
        "\n",
        "target_size = (image_size, image_size)\n",
        "input_shape = (image_size, image_size, 3)"
      ],
      "metadata": {
        "id": "2Xwh7fSOKejB"
      },
      "execution_count": 3,
      "outputs": []
    },
    {
      "cell_type": "code",
      "source": [
        "from tensorflow.keras.preprocessing.image import ImageDataGenerator\n",
        "\n",
        "train_datagen = ImageDataGenerator(rescale=1/255)\n",
        "\n",
        "\n",
        "train_generator = train_datagen.flow_from_directory('/content/drive/MyDrive/fivetypesof_soil', target_size=(200, 200),\n",
        "        batch_size = batch_size,\n",
        "        classes = [ 'Blacksoil','cinderSoil', 'lateritesoil','peatsoil','yellowsoil'],\n",
        "       class_mode='categorical')"
      ],
      "metadata": {
        "colab": {
          "base_uri": "https://localhost:8080/"
        },
        "id": "nCD_rbTSKiCo",
        "outputId": "a89f19b4-1ea2-4fbd-fe60-91ac374e020f"
      },
      "execution_count": 4,
      "outputs": [
        {
          "output_type": "stream",
          "name": "stdout",
          "text": [
            "Found 156 images belonging to 5 classes.\n"
          ]
        }
      ]
    },
    {
      "cell_type": "code",
      "source": [
        "for image_batch, label_batch in train_generator:\n",
        "  break\n",
        "  image_batch.shape, label_batch.shape"
      ],
      "metadata": {
        "id": "XgHmlH5AMhsl"
      },
      "execution_count": 5,
      "outputs": []
    },
    {
      "cell_type": "code",
      "source": [
        "print (train_generator.class_indices)"
      ],
      "metadata": {
        "colab": {
          "base_uri": "https://localhost:8080/"
        },
        "id": "VKYkw2oYMn5z",
        "outputId": "3201eedb-e731-4283-844a-cb2143c545ce"
      },
      "execution_count": 6,
      "outputs": [
        {
          "output_type": "stream",
          "name": "stdout",
          "text": [
            "{'Blacksoil': 0, 'cinderSoil': 1, 'lateritesoil': 2, 'peatsoil': 3, 'yellowsoil': 4}\n"
          ]
        }
      ]
    },
    {
      "cell_type": "code",
      "source": [
        "model = tf.keras.models.Sequential([\n",
        "    \n",
        "    tf.keras.layers.Conv2D(16, (3,3), activation='relu', input_shape=(220, 220, 3)),\n",
        "    tf.keras.layers.MaxPooling2D(2, 2),\n",
        "    tf.keras.layers.Conv2D(32, (3,3), activation='relu'),\n",
        "    tf.keras.layers.MaxPooling2D(2,2),\n",
        "    tf.keras.layers.Conv2D(64, (3,3), activation='relu'),\n",
        "    tf.keras.layers.MaxPooling2D(2,2),\n",
        "    tf.keras.layers.Conv2D(64, (3,3), activation='relu'),\n",
        "    tf.keras.layers.MaxPooling2D(2,2),\n",
        "    tf.keras.layers.MaxPooling2D(2,2),\n",
        "    tf.keras.layers.Flatten(),\n",
        "    tf.keras.layers.Dense(128, activation='relu'),\n",
        "    tf.keras.layers.Dense(5, activation='softmax')\n",
        "])"
      ],
      "metadata": {
        "id": "L6KX-IUOMt8l"
      },
      "execution_count": 7,
      "outputs": []
    },
    {
      "cell_type": "code",
      "source": [
        "model.summary()"
      ],
      "metadata": {
        "colab": {
          "base_uri": "https://localhost:8080/"
        },
        "id": "Q6jbc_v7NCwH",
        "outputId": "bc100ad4-311c-4446-c1f8-a8955d80c18e"
      },
      "execution_count": 8,
      "outputs": [
        {
          "output_type": "stream",
          "name": "stdout",
          "text": [
            "Model: \"sequential\"\n",
            "_________________________________________________________________\n",
            " Layer (type)                Output Shape              Param #   \n",
            "=================================================================\n",
            " conv2d (Conv2D)             (None, 218, 218, 16)      448       \n",
            "                                                                 \n",
            " max_pooling2d (MaxPooling2D  (None, 109, 109, 16)     0         \n",
            " )                                                               \n",
            "                                                                 \n",
            " conv2d_1 (Conv2D)           (None, 107, 107, 32)      4640      \n",
            "                                                                 \n",
            " max_pooling2d_1 (MaxPooling  (None, 53, 53, 32)       0         \n",
            " 2D)                                                             \n",
            "                                                                 \n",
            " conv2d_2 (Conv2D)           (None, 51, 51, 64)        18496     \n",
            "                                                                 \n",
            " max_pooling2d_2 (MaxPooling  (None, 25, 25, 64)       0         \n",
            " 2D)                                                             \n",
            "                                                                 \n",
            " conv2d_3 (Conv2D)           (None, 23, 23, 64)        36928     \n",
            "                                                                 \n",
            " max_pooling2d_3 (MaxPooling  (None, 11, 11, 64)       0         \n",
            " 2D)                                                             \n",
            "                                                                 \n",
            " max_pooling2d_4 (MaxPooling  (None, 5, 5, 64)         0         \n",
            " 2D)                                                             \n",
            "                                                                 \n",
            " flatten (Flatten)           (None, 1600)              0         \n",
            "                                                                 \n",
            " dense (Dense)               (None, 128)               204928    \n",
            "                                                                 \n",
            " dense_1 (Dense)             (None, 5)                 645       \n",
            "                                                                 \n",
            "=================================================================\n",
            "Total params: 266,085\n",
            "Trainable params: 266,085\n",
            "Non-trainable params: 0\n",
            "_________________________________________________________________\n"
          ]
        }
      ]
    },
    {
      "cell_type": "code",
      "source": [
        "from tensorflow.keras.optimizers import RMSprop\n",
        "\n",
        "model.compile(loss='categorical_crossentropy',optimizer=RMSprop(learning_rate=0.001),metrics=['acc'])"
      ],
      "metadata": {
        "id": "uNyoyN2cNH0i"
      },
      "execution_count": 9,
      "outputs": []
    },
    {
      "cell_type": "code",
      "source": [
        "total_sample = train_generator.n\n",
        "n_epochs=30"
      ],
      "metadata": {
        "id": "3cIdvtonNS-b"
      },
      "execution_count": 10,
      "outputs": []
    },
    {
      "cell_type": "code",
      "source": [
        "history = model.fit(train_generator,steps_per_epoch = int(total_sample/batch_size),epochs = n_epochs,verbose = 1)"
      ],
      "metadata": {
        "colab": {
          "base_uri": "https://localhost:8080/"
        },
        "id": "_pDdznjBNUpi",
        "outputId": "ab0661d2-e35b-4a6b-b0a5-1dc7ce689c57"
      },
      "execution_count": 11,
      "outputs": [
        {
          "output_type": "stream",
          "name": "stdout",
          "text": [
            "Epoch 1/30\n",
            "15/15 [==============================] - 41s 3s/step - loss: 1.4906 - acc: 0.3630\n",
            "Epoch 2/30\n",
            "15/15 [==============================] - 6s 406ms/step - loss: 1.3203 - acc: 0.3973\n",
            "Epoch 3/30\n",
            "15/15 [==============================] - 8s 535ms/step - loss: 1.1421 - acc: 0.4315\n",
            "Epoch 4/30\n",
            "15/15 [==============================] - 6s 399ms/step - loss: 0.9695 - acc: 0.5274\n",
            "Epoch 5/30\n",
            "15/15 [==============================] - 6s 388ms/step - loss: 0.8874 - acc: 0.6164\n",
            "Epoch 6/30\n",
            "15/15 [==============================] - 8s 531ms/step - loss: 0.7887 - acc: 0.5822\n",
            "Epoch 7/30\n",
            "15/15 [==============================] - 6s 389ms/step - loss: 0.7260 - acc: 0.6438\n",
            "Epoch 8/30\n",
            "15/15 [==============================] - 7s 503ms/step - loss: 0.7852 - acc: 0.6507\n",
            "Epoch 9/30\n",
            "15/15 [==============================] - 6s 422ms/step - loss: 0.6780 - acc: 0.6918\n",
            "Epoch 10/30\n",
            "15/15 [==============================] - 8s 536ms/step - loss: 0.5889 - acc: 0.7329\n",
            "Epoch 11/30\n",
            "15/15 [==============================] - 6s 410ms/step - loss: 0.5974 - acc: 0.7397\n",
            "Epoch 12/30\n",
            "15/15 [==============================] - 8s 506ms/step - loss: 0.4942 - acc: 0.7740\n",
            "Epoch 13/30\n",
            "15/15 [==============================] - 8s 531ms/step - loss: 0.5260 - acc: 0.7945\n",
            "Epoch 14/30\n",
            "15/15 [==============================] - 6s 390ms/step - loss: 0.5547 - acc: 0.7192\n",
            "Epoch 15/30\n",
            "15/15 [==============================] - 8s 508ms/step - loss: 0.5075 - acc: 0.7945\n",
            "Epoch 16/30\n",
            "15/15 [==============================] - 6s 405ms/step - loss: 0.3072 - acc: 0.9110\n",
            "Epoch 17/30\n",
            "15/15 [==============================] - 8s 537ms/step - loss: 0.5937 - acc: 0.8219\n",
            "Epoch 18/30\n",
            "15/15 [==============================] - 7s 454ms/step - loss: 0.3491 - acc: 0.8630\n",
            "Epoch 19/30\n",
            "15/15 [==============================] - 6s 406ms/step - loss: 0.3176 - acc: 0.8933\n",
            "Epoch 20/30\n",
            "15/15 [==============================] - 6s 391ms/step - loss: 0.4190 - acc: 0.8699\n",
            "Epoch 21/30\n",
            "15/15 [==============================] - 7s 496ms/step - loss: 0.3089 - acc: 0.9247\n",
            "Epoch 22/30\n",
            "15/15 [==============================] - 6s 409ms/step - loss: 0.2530 - acc: 0.9041\n",
            "Epoch 23/30\n",
            "15/15 [==============================] - 6s 395ms/step - loss: 0.3037 - acc: 0.9178\n",
            "Epoch 24/30\n",
            "15/15 [==============================] - 7s 493ms/step - loss: 0.3354 - acc: 0.8973\n",
            "Epoch 25/30\n",
            "15/15 [==============================] - 7s 414ms/step - loss: 0.2613 - acc: 0.9067\n",
            "Epoch 26/30\n",
            "15/15 [==============================] - 8s 537ms/step - loss: 0.2839 - acc: 0.9110\n",
            "Epoch 27/30\n",
            "15/15 [==============================] - 6s 392ms/step - loss: 0.2780 - acc: 0.9247\n",
            "Epoch 28/30\n",
            "15/15 [==============================] - 6s 394ms/step - loss: 0.1382 - acc: 0.9589\n",
            "Epoch 29/30\n",
            "15/15 [==============================] - 8s 484ms/step - loss: 0.2053 - acc: 0.9315\n",
            "Epoch 30/30\n",
            "15/15 [==============================] - 6s 390ms/step - loss: 0.0588 - acc: 0.9932\n"
          ]
        }
      ]
    },
    {
      "cell_type": "code",
      "source": [
        "import matplotlib.pyplot as plt"
      ],
      "metadata": {
        "id": "4aU5EW9ZNfDq"
      },
      "execution_count": 12,
      "outputs": []
    },
    {
      "cell_type": "code",
      "source": [
        "model.save('my_model.h5')"
      ],
      "metadata": {
        "id": "96-6gAG7NsfN"
      },
      "execution_count": 13,
      "outputs": []
    },
    {
      "cell_type": "code",
      "source": [
        "model.save(filepath=\"save_model/\")"
      ],
      "metadata": {
        "colab": {
          "base_uri": "https://localhost:8080/"
        },
        "id": "7io14dJxNv4N",
        "outputId": "ede91543-487b-4154-d595-f52af84a99af"
      },
      "execution_count": 14,
      "outputs": [
        {
          "output_type": "stream",
          "name": "stderr",
          "text": [
            "WARNING:absl:Found untraced functions such as _jit_compiled_convolution_op, _jit_compiled_convolution_op, _jit_compiled_convolution_op, _jit_compiled_convolution_op, _update_step_xla while saving (showing 5 of 5). These functions will not be directly callable after loading.\n"
          ]
        }
      ]
    },
    {
      "cell_type": "code",
      "source": [
        "from keras import Sequential\n",
        "from keras.models import load_model\n",
        "from tensorflow.keras.models import Sequential "
      ],
      "metadata": {
        "id": "9Be5nfo6NzA6"
      },
      "execution_count": 15,
      "outputs": []
    },
    {
      "cell_type": "code",
      "source": [
        "converter = tf.lite.TFLiteConverter.from_saved_model('save_model')\n",
        "tflite_model = converter.convert()\n",
        "open(\"soil.tflite\", \"wb\").write(tflite_model)"
      ],
      "metadata": {
        "colab": {
          "base_uri": "https://localhost:8080/"
        },
        "id": "cEkOimTkN2KR",
        "outputId": "5259bddf-20bc-46f2-86a6-d2231fb0c643"
      },
      "execution_count": 16,
      "outputs": [
        {
          "output_type": "execute_result",
          "data": {
            "text/plain": [
              "1069312"
            ]
          },
          "metadata": {},
          "execution_count": 16
        }
      ]
    },
    {
      "cell_type": "code",
      "source": [
        "model.save_weights(\"model.h5\")\n"
      ],
      "metadata": {
        "id": "aYIms3-4N5uQ"
      },
      "execution_count": 17,
      "outputs": []
    },
    {
      "cell_type": "code",
      "source": [
        "!pip install cartopy\n",
        "import cartopy"
      ],
      "metadata": {
        "id": "dPSeCsRslrJ-",
        "outputId": "96aae4c5-f7ee-4e1e-97df-bc4700c22071",
        "colab": {
          "base_uri": "https://localhost:8080/"
        }
      },
      "execution_count": 18,
      "outputs": [
        {
          "output_type": "stream",
          "name": "stdout",
          "text": [
            "Looking in indexes: https://pypi.org/simple, https://us-python.pkg.dev/colab-wheels/public/simple/\n",
            "Collecting cartopy\n",
            "  Downloading Cartopy-0.21.1.tar.gz (10.9 MB)\n",
            "\u001b[2K     \u001b[90m━━━━━━━━━━━━━━━━━━━━━━━━━━━━━━━━━━━━━━━━\u001b[0m \u001b[32m10.9/10.9 MB\u001b[0m \u001b[31m71.2 MB/s\u001b[0m eta \u001b[36m0:00:00\u001b[0m\n",
            "\u001b[?25h  Installing build dependencies ... \u001b[?25l\u001b[?25hdone\n",
            "  Getting requirements to build wheel ... \u001b[?25l\u001b[?25hdone\n",
            "  Preparing metadata (pyproject.toml) ... \u001b[?25l\u001b[?25hdone\n",
            "Requirement already satisfied: shapely>=1.6.4 in /usr/local/lib/python3.8/dist-packages (from cartopy) (2.0.1)\n",
            "Requirement already satisfied: numpy>=1.18 in /usr/local/lib/python3.8/dist-packages (from cartopy) (1.21.6)\n",
            "Collecting pyproj>=3.0.0\n",
            "  Downloading pyproj-3.4.1-cp38-cp38-manylinux_2_17_x86_64.manylinux2014_x86_64.whl (7.8 MB)\n",
            "\u001b[2K     \u001b[90m━━━━━━━━━━━━━━━━━━━━━━━━━━━━━━━━━━━━━━━━\u001b[0m \u001b[32m7.8/7.8 MB\u001b[0m \u001b[31m80.8 MB/s\u001b[0m eta \u001b[36m0:00:00\u001b[0m\n",
            "\u001b[?25hRequirement already satisfied: matplotlib>=3.1 in /usr/local/lib/python3.8/dist-packages (from cartopy) (3.2.2)\n",
            "Collecting pyshp>=2.1\n",
            "  Downloading pyshp-2.3.1-py2.py3-none-any.whl (46 kB)\n",
            "\u001b[2K     \u001b[90m━━━━━━━━━━━━━━━━━━━━━━━━━━━━━━━━━━━━━━━━\u001b[0m \u001b[32m46.5/46.5 KB\u001b[0m \u001b[31m5.4 MB/s\u001b[0m eta \u001b[36m0:00:00\u001b[0m\n",
            "\u001b[?25hRequirement already satisfied: kiwisolver>=1.0.1 in /usr/local/lib/python3.8/dist-packages (from matplotlib>=3.1->cartopy) (1.4.4)\n",
            "Requirement already satisfied: python-dateutil>=2.1 in /usr/local/lib/python3.8/dist-packages (from matplotlib>=3.1->cartopy) (2.8.2)\n",
            "Requirement already satisfied: cycler>=0.10 in /usr/local/lib/python3.8/dist-packages (from matplotlib>=3.1->cartopy) (0.11.0)\n",
            "Requirement already satisfied: pyparsing!=2.0.4,!=2.1.2,!=2.1.6,>=2.0.1 in /usr/local/lib/python3.8/dist-packages (from matplotlib>=3.1->cartopy) (3.0.9)\n",
            "Requirement already satisfied: certifi in /usr/local/lib/python3.8/dist-packages (from pyproj>=3.0.0->cartopy) (2022.12.7)\n",
            "Requirement already satisfied: six>=1.5 in /usr/local/lib/python3.8/dist-packages (from python-dateutil>=2.1->matplotlib>=3.1->cartopy) (1.15.0)\n",
            "Building wheels for collected packages: cartopy\n",
            "  Building wheel for cartopy (pyproject.toml) ... \u001b[?25l\u001b[?25hdone\n",
            "  Created wheel for cartopy: filename=Cartopy-0.21.1-cp38-cp38-linux_x86_64.whl size=11127982 sha256=e699d3436c2933d0ee8e14a1c45c2c892da74fde0f4420beab62dcd718ff6f7a\n",
            "  Stored in directory: /root/.cache/pip/wheels/7c/ff/6f/09e4aa53f4e67d6498ef1d33dd4ea9c8c165817b9ddcc31d28\n",
            "Successfully built cartopy\n",
            "Installing collected packages: pyshp, pyproj, cartopy\n",
            "Successfully installed cartopy-0.21.1 pyproj-3.4.1 pyshp-2.3.1\n"
          ]
        }
      ]
    },
    {
      "cell_type": "code",
      "source": [
        "!apt-get -qq install -y libarchive-dev && pip install -U libarchive\n",
        "import libarchive"
      ],
      "metadata": {
        "id": "VMOjvhPgGZNd",
        "outputId": "c58b5ed2-b1d9-4c00-ad4b-4e287419fa90",
        "colab": {
          "base_uri": "https://localhost:8080/"
        }
      },
      "execution_count": 21,
      "outputs": [
        {
          "output_type": "stream",
          "name": "stdout",
          "text": [
            "Selecting previously unselected package libarchive-dev:amd64.\n",
            "(Reading database ... 128048 files and directories currently installed.)\n",
            "Preparing to unpack .../libarchive-dev_3.4.0-2ubuntu1.2_amd64.deb ...\n",
            "Unpacking libarchive-dev:amd64 (3.4.0-2ubuntu1.2) ...\n",
            "Setting up libarchive-dev:amd64 (3.4.0-2ubuntu1.2) ...\n",
            "Processing triggers for man-db (2.9.1-1) ...\n",
            "Looking in indexes: https://pypi.org/simple, https://us-python.pkg.dev/colab-wheels/public/simple/\n",
            "Collecting libarchive\n",
            "  Downloading libarchive-0.4.7.tar.gz (23 kB)\n",
            "  Preparing metadata (setup.py) ... \u001b[?25l\u001b[?25hdone\n",
            "Collecting nose\n",
            "  Downloading nose-1.3.7-py3-none-any.whl (154 kB)\n",
            "\u001b[2K     \u001b[90m━━━━━━━━━━━━━━━━━━━━━━━━━━━━━━━━━━━━━━━\u001b[0m \u001b[32m154.7/154.7 KB\u001b[0m \u001b[31m8.3 MB/s\u001b[0m eta \u001b[36m0:00:00\u001b[0m\n",
            "\u001b[?25hBuilding wheels for collected packages: libarchive\n",
            "  Building wheel for libarchive (setup.py) ... \u001b[?25l\u001b[?25hdone\n",
            "  Created wheel for libarchive: filename=libarchive-0.4.7-py3-none-any.whl size=31648 sha256=f884fcc599378cb71dde7b372b5bd49eeaef4339b0bcb0a0286335cac66d5b56\n",
            "  Stored in directory: /root/.cache/pip/wheels/e2/96/fb/b17d6b9adb7c223428b4c77d9e8bc29f40a51d625389b73461\n",
            "Successfully built libarchive\n",
            "Installing collected packages: nose, libarchive\n",
            "Successfully installed libarchive-0.4.7 nose-1.3.7\n"
          ]
        }
      ]
    },
    {
      "cell_type": "code",
      "source": [
        "from tensorflow.keras.utils import load_img\n",
        "import cv2\n",
        "from tensorflow.keras.preprocessing.image import img_to_array\n",
        "from keras.models import load_model\n",
        "\n",
        "IMAGE_CHANNEL = 1 #or 3\n",
        "\n",
        "def prepare(filepath):\n",
        "    IMG_SIZE = 112\n",
        "    img_array = cv2.imread(filepath, cv2.IMREAD_GRAYSCALE)\n",
        "    new_array = cv2.resize(img_array, (IMG_SIZE, IMG_SIZE))\n",
        "    return new_array.reshape(-1, IMG_SIZE, IMG_SIZE, IMAGE_CHANNEL)\n",
        "\n",
        "x = tf.keras.Input(shape=(112,112,IMAGE_CHANNEL))\n",
        "y = tf.keras.layers.Dense(16, activation='softmax')(x)\n",
        "model = tf.keras.Model(x, y)\n",
        "model.summary()\n",
        "\n",
        "\n",
        "\n",
        "prediction = model.predict([prepare(\"soil.jpeg\")])\n",
        "print(prediction)\n",
        "\n",
        "\n"
      ],
      "metadata": {
        "id": "0UlR6NSHQMGB",
        "outputId": "e5ca4787-4067-4673-fae6-41b76b948941",
        "colab": {
          "base_uri": "https://localhost:8080/"
        }
      },
      "execution_count": 77,
      "outputs": [
        {
          "output_type": "stream",
          "name": "stdout",
          "text": [
            "Model: \"model_16\"\n",
            "_________________________________________________________________\n",
            " Layer (type)                Output Shape              Param #   \n",
            "=================================================================\n",
            " input_17 (InputLayer)       [(None, 112, 112, 1)]     0         \n",
            "                                                                 \n",
            " dense_18 (Dense)            (None, 112, 112, 16)      32        \n",
            "                                                                 \n",
            "=================================================================\n",
            "Total params: 32\n",
            "Trainable params: 32\n",
            "Non-trainable params: 0\n",
            "_________________________________________________________________\n",
            "1/1 [==============================] - 0s 101ms/step\n",
            "[[[[1.75623427e-05 1.04881032e-07 9.49454605e-24 ... 2.88887705e-31\n",
            "    5.78965681e-17 4.58299393e-28]\n",
            "   [4.29729745e-08 1.31226557e-11 5.74619049e-37 ... 0.00000000e+00\n",
            "    3.05028261e-26 0.00000000e+00]\n",
            "   [1.64243076e-07 9.71104031e-11 4.99709766e-34 ... 0.00000000e+00\n",
            "    3.53321925e-24 0.00000000e+00]\n",
            "   ...\n",
            "   [5.70916014e-12 2.18944832e-17 0.00000000e+00 ... 0.00000000e+00\n",
            "    0.00000000e+00 0.00000000e+00]\n",
            "   [1.06567699e-09 5.28848849e-14 0.00000000e+00 ... 0.00000000e+00\n",
            "    6.37581671e-32 0.00000000e+00]\n",
            "   [8.00483898e-12 3.62120879e-17 0.00000000e+00 ... 0.00000000e+00\n",
            "    0.00000000e+00 0.00000000e+00]]\n",
            "\n",
            "  [[4.48304064e-07 4.35076947e-10 7.99077609e-32 ... 0.00000000e+00\n",
            "    1.24568861e-22 1.13413026e-37]\n",
            "   [3.32536615e-06 8.69485284e-09 2.03434343e-27 ... 3.79575334e-36\n",
            "    1.54164882e-19 1.97659067e-32]\n",
            "   [1.85702085e-08 3.75230099e-12 0.00000000e+00 ... 0.00000000e+00\n",
            "    1.56314493e-27 0.00000000e+00]\n",
            "   ...\n",
            "   [1.32731852e-08 2.27361381e-12 0.00000000e+00 ... 0.00000000e+00\n",
            "    4.76180979e-28 0.00000000e+00]\n",
            "   [4.82138114e-12 1.70241198e-17 0.00000000e+00 ... 0.00000000e+00\n",
            "    0.00000000e+00 0.00000000e+00]\n",
            "   [9.47828187e-12 4.65691336e-17 0.00000000e+00 ... 0.00000000e+00\n",
            "    0.00000000e+00 0.00000000e+00]]\n",
            "\n",
            "  [[8.01893396e-09 1.07214129e-12 0.00000000e+00 ... 0.00000000e+00\n",
            "    8.00454883e-29 0.00000000e+00]\n",
            "   [5.08197253e-08 1.68549653e-11 1.33921310e-36 ... 0.00000000e+00\n",
            "    5.52545542e-26 0.00000000e+00]\n",
            "   [1.22194274e-06 1.94652028e-09 1.27599840e-29 ... 0.00000000e+00\n",
            "    4.38574634e-21 4.73843581e-35]\n",
            "   ...\n",
            "   [4.33250623e-11 4.47642195e-16 0.00000000e+00 ... 0.00000000e+00\n",
            "    7.85223715e-37 0.00000000e+00]\n",
            "   [2.47190268e-09 1.85388177e-13 0.00000000e+00 ... 0.00000000e+00\n",
            "    1.24710265e-30 0.00000000e+00]\n",
            "   [3.09122519e-11 2.70759667e-16 0.00000000e+00 ... 0.00000000e+00\n",
            "    2.38782559e-37 0.00000000e+00]]\n",
            "\n",
            "  ...\n",
            "\n",
            "  [[6.47523075e-06 2.35588580e-08 5.97535881e-26 ... 3.40555223e-34\n",
            "    1.65261432e-18 1.10237193e-30]\n",
            "   [5.24207801e-02 2.11321283e-02 3.00999200e-05 ... 1.39620386e-06\n",
            "    4.81268158e-04 5.16137243e-06]\n",
            "   [7.10660046e-08 2.78031695e-11 7.27341506e-36 ... 0.00000000e+00\n",
            "    1.81293918e-25 0.00000000e+00]\n",
            "   ...\n",
            "   [8.40343546e-08 3.57074266e-11 1.69497346e-35 ... 0.00000000e+00\n",
            "    3.28374445e-25 0.00000000e+00]\n",
            "   [1.76564408e-09 1.12257466e-13 0.00000000e+00 ... 0.00000000e+00\n",
            "    3.79657263e-31 0.00000000e+00]\n",
            "   [8.01893396e-09 1.07214129e-12 0.00000000e+00 ... 0.00000000e+00\n",
            "    8.00454883e-29 0.00000000e+00]]\n",
            "\n",
            "  [[2.19643663e-08 4.82023275e-12 1.94707115e-38 ... 0.00000000e+00\n",
            "    2.83199370e-27 0.00000000e+00]\n",
            "   [9.20339153e-05 1.25531665e-06 4.39690860e-20 ... 2.18161687e-26\n",
            "    2.15745577e-14 1.05439535e-23]\n",
            "   [1.28009342e-04 2.05961078e-06 2.37521863e-19 ... 2.05972642e-25\n",
            "    7.04078722e-14 7.84865924e-23]\n",
            "   ...\n",
            "   [9.52412859e-02 6.30201772e-02 3.20384419e-03 ... 7.93381885e-04\n",
            "    1.12944022e-02 1.43741013e-03]\n",
            "   [2.04298599e-03 1.33839450e-04 3.86767224e-13 ... 3.86011774e-17\n",
            "    1.58094171e-09 1.95006763e-15]\n",
            "   [4.75025663e-05 4.65635765e-07 1.50451027e-21 ... 2.44385103e-28\n",
            "    2.02274729e-15 1.90009882e-25]]\n",
            "\n",
            "  [[9.03257114e-06 3.87658083e-08 3.23727833e-25 ... 3.22464365e-33\n",
            "    5.40894230e-18 8.22962504e-30]\n",
            "   [7.40273038e-07 9.20434950e-10 1.00994675e-30 ... 0.00000000e+00\n",
            "    7.39276870e-22 2.31861974e-36]\n",
            "   [4.75025663e-05 4.65635765e-07 1.50451027e-21 ... 2.44385103e-28\n",
            "    2.02274729e-15 1.90009882e-25]\n",
            "   ...\n",
            "   [3.12295165e-02 9.04749893e-03 1.18878700e-06 ... 1.80524289e-08\n",
            "    5.20809699e-05 1.07357238e-07]\n",
            "   [7.20091024e-03 9.13396012e-04 3.10183268e-10 ... 2.88849267e-13\n",
            "    1.68879595e-07 5.63850876e-12]\n",
            "   [5.48197113e-06 1.83640001e-08 2.56692165e-26 ... 1.10662898e-34\n",
            "    9.13398372e-19 4.03421339e-31]]]]\n"
          ]
        }
      ]
    }
  ]
}